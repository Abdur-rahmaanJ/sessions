{
 "cells": [
  {
   "cell_type": "markdown",
   "metadata": {},
   "source": [
    "# functions"
   ]
  },
  {
   "cell_type": "markdown",
   "metadata": {},
   "source": [
    "### a name replacing some lines of code"
   ]
  },
  {
   "cell_type": "markdown",
   "metadata": {},
   "source": [
    "in python evrything is an object including functions"
   ]
  },
  {
   "cell_type": "code",
   "execution_count": 2,
   "metadata": {
    "collapsed": false
   },
   "outputs": [],
   "source": [
    "# def <name> (<parameters>) :\n",
    "#     ...\n",
    "\n",
    "def print_one():\n",
    "    print(1)"
   ]
  },
  {
   "cell_type": "code",
   "execution_count": 3,
   "metadata": {
    "collapsed": false
   },
   "outputs": [
    {
     "name": "stdout",
     "output_type": "stream",
     "text": [
      "1\n"
     ]
    }
   ],
   "source": [
    "# call the function \n",
    "print_one()"
   ]
  },
  {
   "cell_type": "markdown",
   "metadata": {},
   "source": [
    "using the return keyword"
   ]
  },
  {
   "cell_type": "markdown",
   "metadata": {},
   "source": [
    "makes the function behave as a single value"
   ]
  },
  {
   "cell_type": "code",
   "execution_count": 4,
   "metadata": {
    "collapsed": false
   },
   "outputs": [
    {
     "name": "stdout",
     "output_type": "stream",
     "text": [
      "1\n"
     ]
    }
   ],
   "source": [
    "def one():\n",
    "    return 1\n",
    "\n",
    "# eg\n",
    "print(one())"
   ]
  },
  {
   "cell_type": "code",
   "execution_count": 5,
   "metadata": {
    "collapsed": false
   },
   "outputs": [
    {
     "data": {
      "text/plain": [
       "3"
      ]
     },
     "execution_count": 5,
     "metadata": {},
     "output_type": "execute_result"
    }
   ],
   "source": [
    "one() + 2"
   ]
  },
  {
   "cell_type": "code",
   "execution_count": 6,
   "metadata": {
    "collapsed": false
   },
   "outputs": [
    {
     "data": {
      "text/plain": [
       "4"
      ]
     },
     "execution_count": 6,
     "metadata": {},
     "output_type": "execute_result"
    }
   ],
   "source": [
    "one() * 4"
   ]
  },
  {
   "cell_type": "code",
   "execution_count": 7,
   "metadata": {
    "collapsed": false
   },
   "outputs": [
    {
     "data": {
      "text/plain": [
       "1"
      ]
     },
     "execution_count": 7,
     "metadata": {},
     "output_type": "execute_result"
    }
   ],
   "source": [
    "x = one()\n",
    "x"
   ]
  },
  {
   "cell_type": "code",
   "execution_count": 8,
   "metadata": {
    "collapsed": false
   },
   "outputs": [
    {
     "data": {
      "text/plain": [
       "2"
      ]
     },
     "execution_count": 8,
     "metadata": {},
     "output_type": "execute_result"
    }
   ],
   "source": [
    "x + 1"
   ]
  },
  {
   "cell_type": "markdown",
   "metadata": {},
   "source": [
    "### parameters"
   ]
  },
  {
   "cell_type": "code",
   "execution_count": 9,
   "metadata": {
    "collapsed": false
   },
   "outputs": [
    {
     "name": "stdout",
     "output_type": "stream",
     "text": [
      "12\n"
     ]
    }
   ],
   "source": [
    "def mult(x, y): # x is a parameter, y is a parameter\n",
    "    print(x * y)\n",
    "    \n",
    "mult(3, 4)"
   ]
  },
  {
   "cell_type": "code",
   "execution_count": 10,
   "metadata": {
    "collapsed": false
   },
   "outputs": [
    {
     "data": {
      "text/plain": [
       "3"
      ]
     },
     "execution_count": 10,
     "metadata": {},
     "output_type": "execute_result"
    }
   ],
   "source": [
    "def add(x, y):\n",
    "    return x + y\n",
    "\n",
    "add(1, 2) # the name add is now taken to replace the value of x + y"
   ]
  },
  {
   "cell_type": "code",
   "execution_count": 11,
   "metadata": {
    "collapsed": false
   },
   "outputs": [
    {
     "data": {
      "text/plain": [
       "4"
      ]
     },
     "execution_count": 11,
     "metadata": {},
     "output_type": "execute_result"
    }
   ],
   "source": [
    "1 + add(1, 2)"
   ]
  },
  {
   "cell_type": "code",
   "execution_count": 24,
   "metadata": {
    "collapsed": false
   },
   "outputs": [
    {
     "name": "stdout",
     "output_type": "stream",
     "text": [
      "(1, 2, 3, 4, 5)\n"
     ]
    }
   ],
   "source": [
    "# args\n",
    "\n",
    "def a(*args):\n",
    "    print(args)\n",
    "    \n",
    "a(1, 2, 3, 4, 5)"
   ]
  },
  {
   "cell_type": "markdown",
   "metadata": {},
   "source": [
    "### keyword parameters"
   ]
  },
  {
   "cell_type": "code",
   "execution_count": 12,
   "metadata": {
    "collapsed": false
   },
   "outputs": [
    {
     "name": "stdout",
     "output_type": "stream",
     "text": [
      "mauritius xyz\n"
     ]
    }
   ],
   "source": [
    "def bot(name='mauritius', password='xyz'):\n",
    "    print(name, password)\n",
    "    \n",
    "bot()"
   ]
  },
  {
   "cell_type": "code",
   "execution_count": 13,
   "metadata": {
    "collapsed": false
   },
   "outputs": [
    {
     "name": "stdout",
     "output_type": "stream",
     "text": [
      "nom xxxyyyzzz\n"
     ]
    }
   ],
   "source": [
    "bot(name='nom', password='xxxyyyzzz')"
   ]
  },
  {
   "cell_type": "code",
   "execution_count": 15,
   "metadata": {
    "collapsed": false
   },
   "outputs": [
    {
     "name": "stdout",
     "output_type": "stream",
     "text": [
      "mauritius 123\n"
     ]
    }
   ],
   "source": [
    "bot(password='123')"
   ]
  },
  {
   "cell_type": "markdown",
   "metadata": {},
   "source": [
    "## getting keyword parameters"
   ]
  },
  {
   "cell_type": "code",
   "execution_count": 21,
   "metadata": {
    "collapsed": false
   },
   "outputs": [
    {
     "name": "stdout",
     "output_type": "stream",
     "text": [
      "{'a': 1, 'b': 2, 'c': 23, 'd': 3}\n"
     ]
    }
   ],
   "source": [
    "# **kwargs\n",
    "def d(**kwargs):\n",
    "    print(kwargs)\n",
    "    \n",
    "d(a=1, b=2, c=23, d=3)"
   ]
  },
  {
   "cell_type": "code",
   "execution_count": 23,
   "metadata": {
    "collapsed": false
   },
   "outputs": [
    {
     "name": "stdout",
     "output_type": "stream",
     "text": [
      "1\n"
     ]
    }
   ],
   "source": [
    "def abc(**kwargs):\n",
    "    if 'a' in kwargs:\n",
    "        print(kwargs['a'])\n",
    "    \n",
    "abc(a=1, b=2)"
   ]
  },
  {
   "cell_type": "code",
   "execution_count": 22,
   "metadata": {
    "collapsed": false
   },
   "outputs": [
    {
     "data": {
      "text/plain": [
       "1"
      ]
     },
     "execution_count": 22,
     "metadata": {},
     "output_type": "execute_result"
    }
   ],
   "source": [
    "d = {'a':1}\n",
    "d['a']"
   ]
  },
  {
   "cell_type": "markdown",
   "metadata": {},
   "source": [
    "# OOP and classes"
   ]
  },
  {
   "cell_type": "markdown",
   "metadata": {},
   "source": [
    "~~~\n",
    "object oriented programming\n",
    "\n",
    "class i.e. object definition\n",
    "human\n",
    "    attributes\n",
    "        name\n",
    "        age\n",
    "        height\n",
    "        strength\n",
    "    actions / methods\n",
    "        walk\n",
    "        run\n",
    "        eat\n",
    "        drink\n",
    "\n",
    "object\n",
    "human name='sfcswdf' age=12 etc\n",
    "~~~"
   ]
  },
  {
   "cell_type": "code",
   "execution_count": 25,
   "metadata": {
    "collapsed": false
   },
   "outputs": [
    {
     "name": "stdout",
     "output_type": "stream",
     "text": [
      "nissan\n"
     ]
    }
   ],
   "source": [
    "class Car:\n",
    "    make = 'nissan'\n",
    "    age = 12\n",
    "    km = 200000\n",
    "    \n",
    "print(Car.make)"
   ]
  },
  {
   "cell_type": "code",
   "execution_count": 26,
   "metadata": {
    "collapsed": false
   },
   "outputs": [
    {
     "name": "stdout",
     "output_type": "stream",
     "text": [
      "12\n"
     ]
    }
   ],
   "source": [
    "print(Car.age)"
   ]
  },
  {
   "cell_type": "code",
   "execution_count": 27,
   "metadata": {
    "collapsed": false
   },
   "outputs": [
    {
     "name": "stdout",
     "output_type": "stream",
     "text": [
      "200000\n"
     ]
    }
   ],
   "source": [
    "print(Car.km)"
   ]
  },
  {
   "cell_type": "code",
   "execution_count": 28,
   "metadata": {
    "collapsed": false
   },
   "outputs": [
    {
     "name": "stdout",
     "output_type": "stream",
     "text": [
      "plane created\n"
     ]
    }
   ],
   "source": [
    "# real example\n",
    "\n",
    "class Plane:\n",
    "    def __init__(self): \n",
    "        '''\n",
    "        called a constructor\n",
    "        whatever is written here is executed when object created\n",
    "        '''\n",
    "        print('plane created')\n",
    "        \n",
    "# make an object\n",
    "passenger_plane = Plane()"
   ]
  },
  {
   "cell_type": "code",
   "execution_count": 29,
   "metadata": {
    "collapsed": false
   },
   "outputs": [
    {
     "name": "stdout",
     "output_type": "stream",
     "text": [
      "plane created Boeing\n"
     ]
    }
   ],
   "source": [
    "class Plane:\n",
    "    def __init__(self): \n",
    "        '''\n",
    "        called a constructor\n",
    "        whatever is written here is executed when object created\n",
    "        '''\n",
    "        \n",
    "        \n",
    "        self.make = 'Boeing'\n",
    "        self.age = 12\n",
    "        self.price = 1000000\n",
    "        \n",
    "        print('plane created', self.make)\n",
    "        \n",
    "passenger_plane = Plane()"
   ]
  },
  {
   "cell_type": "code",
   "execution_count": 30,
   "metadata": {
    "collapsed": false
   },
   "outputs": [
    {
     "name": "stdout",
     "output_type": "stream",
     "text": [
      "plane created Boeing\n",
      "take off\n",
      "took off\n"
     ]
    }
   ],
   "source": [
    "class Plane:\n",
    "    def __init__(self): \n",
    "        '''\n",
    "        called a constructor\n",
    "        whatever is written here is executed when object created\n",
    "        '''\n",
    "        \n",
    "        \n",
    "        self.make = 'Boeing'\n",
    "        self.age = 12\n",
    "        self.price = 1000000\n",
    "        \n",
    "        print('plane created', self.make)\n",
    "        \n",
    "    def take_off(self):\n",
    "        print('take off')\n",
    "        print('took off')\n",
    "        \n",
    "passenger_plane = Plane()\n",
    "passenger_plane.take_off()"
   ]
  },
  {
   "cell_type": "code",
   "execution_count": 31,
   "metadata": {
    "collapsed": false
   },
   "outputs": [
    {
     "name": "stdout",
     "output_type": "stream",
     "text": [
      "plane created airbus\n",
      "take off\n",
      "took off\n"
     ]
    }
   ],
   "source": [
    "class Plane:\n",
    "    def __init__(self, make, age, price): \n",
    "        '''\n",
    "        called a constructor\n",
    "        whatever is written here is executed when object created\n",
    "        '''\n",
    "        \n",
    "        \n",
    "        self.make = make\n",
    "        self.age = age\n",
    "        self.price = price\n",
    "        \n",
    "        print('plane created', self.make)\n",
    "        \n",
    "    def take_off(self):\n",
    "        print('take off')\n",
    "        print('took off')\n",
    "        \n",
    "passenger_plane = Plane('airbus', 1, 200000) # creating an object also called instantiation\n",
    "passenger_plane.take_off() # call object method"
   ]
  },
  {
   "cell_type": "code",
   "execution_count": 32,
   "metadata": {
    "collapsed": false
   },
   "outputs": [
    {
     "name": "stdout",
     "output_type": "stream",
     "text": [
      "1\n"
     ]
    }
   ],
   "source": [
    "print(passenger_plane.age)"
   ]
  },
  {
   "cell_type": "code",
   "execution_count": 33,
   "metadata": {
    "collapsed": false
   },
   "outputs": [
    {
     "name": "stdout",
     "output_type": "stream",
     "text": [
      "200000\n"
     ]
    }
   ],
   "source": [
    "print(passenger_plane.price)"
   ]
  },
  {
   "cell_type": "code",
   "execution_count": null,
   "metadata": {
    "collapsed": true
   },
   "outputs": [],
   "source": [
    "# class inheritance, abstraction, encapsulation and decorators"
   ]
  }
 ],
 "metadata": {
  "kernelspec": {
   "display_name": "Python 3",
   "language": "python",
   "name": "python3"
  },
  "language_info": {
   "codemirror_mode": {
    "name": "ipython",
    "version": 3
   },
   "file_extension": ".py",
   "mimetype": "text/x-python",
   "name": "python",
   "nbconvert_exporter": "python",
   "pygments_lexer": "ipython3",
   "version": "3.6.0"
  }
 },
 "nbformat": 4,
 "nbformat_minor": 2
}
